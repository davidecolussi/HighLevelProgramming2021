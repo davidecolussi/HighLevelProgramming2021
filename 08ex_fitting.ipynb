{
 "cells": [
  {
   "cell_type": "markdown",
   "metadata": {},
   "source": [
    "1\\. **2D minimization of a six-hump camelback function**\n",
    "\n",
    "$$f(x,y) = \\left(4-2.1x^2+\\frac{x^4}{3} \\right) x^2 +xy + (4y^2 -4)y^2$$\n",
    "\n",
    "has multiple global and local minima.\n",
    "\n",
    "- Find the global minima of this function\n",
    "- How many global minima are there, and what is the function value at those points?\n",
    "- What happens for an initial guess of $(x, y) = (0, 0)$?\n",
    "\n",
    "Hints:\n",
    "\n",
    "* Variables can be restricted to $-2 < x < 2$ and $-1 < y < 1$.\n",
    "* Use `numpy.meshgrid()` and `pylab.imshow()` to find visually the regions.\n",
    "* Use `scipy.optimize.minimize()`, optionally trying its optional arguments."
   ]
  },
  {
   "cell_type": "code",
   "execution_count": 44,
   "metadata": {},
   "outputs": [
    {
     "name": "stdout",
     "output_type": "stream",
     "text": [
      "(20, 40)\n",
      "\n",
      "Solution with starting point =  [0, 0]\n",
      "Status : ['requested number of basinhopping iterations completed successfully']\n",
      "Total Evaluations: 6513\n",
      "Solution: f([-0.08984202  0.7126564 ]) = -1.03163\n",
      "\n",
      "Solution with starting point =  [-0.1, 0.5]\n",
      "Status : ['requested number of basinhopping iterations completed successfully']\n",
      "Total Evaluations: 6723\n",
      "Solution: f([-0.08984202  0.7126564 ]) = -1.03163\n",
      "\n",
      "Solution with starting point =  [0.1, -0.5]\n",
      "Status : ['requested number of basinhopping iterations completed successfully']\n",
      "Total Evaluations: 6876\n",
      "Solution: f([-0.08984201  0.7126564 ]) = -1.03163\n"
     ]
    },
    {
     "data": {
      "image/png": "[encoded data removed]",
      "text/plain": [
       "<Figure size 432x288 with 1 Axes>"
      ]
     },
     "metadata": {
      "needs_background": "light"
     },
     "output_type": "display_data"
    }
   ],
   "source": [
    "import numpy as np\n",
    "import pylab\n",
    "import matplotlib.pyplot as plt\n",
    "from scipy import optimize\n",
    "\n",
    "def f(params):\n",
    "    x,y=params\n",
    "    return (4-2.1*x**2+ x**4/3)*x**2 +x*y + (4*y**2-4)*y**2\n",
    "\n",
    "x = np.arange(-2,2,0.1)\n",
    "y = np.arange(-1,1,0.1)\n",
    "\n",
    "\n",
    "xx, yy = np.meshgrid(x,y)\n",
    "\n",
    "z = f([xx,yy])\n",
    "extent = np.min(x), np.max(x), np.min(y), np.max(y)\n",
    "\n",
    "\n",
    "pylab.figure()\n",
    "pylab.imshow(z, interpolation='nearest',origin=\"lower\",extent=extent,cmap='gray')\n",
    "print(z.shape)\n",
    "\n",
    "\n",
    "starting_points =[[0,0],[-0.1,0.5],[0.1,-0.5]]\n",
    "\n",
    "result = [optimize.basinhopping(f, sp, stepsize=0.5, niter=200) for sp in starting_points]\n",
    "# summarize the result\n",
    "for r,sp in zip(result,starting_points):\n",
    "    print(\"\\nSolution with starting point = \",sp)\n",
    "    print('Status : %s' % r['message'])\n",
    "    print('Total Evaluations: %d' % r['nfev'])\n",
    "    # evaluate solution\n",
    "    solution = r['x']\n",
    "    evaluation = f(solution)\n",
    "    print('Solution: f(%s) = %.5f' % (solution, evaluation))"
   ]
  },
  {
   "cell_type": "markdown",
   "metadata": {},
   "source": [
    "There are two global minima at approximately (-0.08984202, 0.7126564) and (0.08984201, -0.7126564). The function at these points is approximately -1.03163 for both points. \n",
    "If we try to start from origin there is a wrong solution which is (0,0). We can tell it is wrong by watching the picture of the function.\n",
    "If we use the starting point (0,0) we find the solution (-0.08984202, 0.7126564)"
   ]
  },
  {
   "cell_type": "markdown",
   "metadata": {},
   "source": [
    "2\\. **Curve fitting of temperature in Alaska** \n",
    "\n",
    "The temperature extremes in Alaska for each month, starting in January, are given by (in degrees Celcius):\n",
    "\n",
    "max:  `17,  19,  21,  28,  33,  38, 37,  37,  31,  23,  19,  18`\n",
    "\n",
    "min: `-62, -59, -56, -46, -32, -18, -9, -13, -25, -46, -52, -58`\n",
    "\n",
    "* Plot these temperatures.\n",
    "* Find a suitable a function that can describe min and max temperatures. \n",
    "* Fit this function to the data with `scipy.optimize.curve_fit()`.\n",
    "* Plot the result. Is the fit reasonable? If not, why?\n",
    "* Is the time offset for min and max temperatures the same within the fit accuracy?"
   ]
  },
  {
   "cell_type": "code",
   "execution_count": null,
   "metadata": {},
   "outputs": [],
   "source": []
  },
  {
   "cell_type": "markdown",
   "metadata": {},
   "source": [
    "3\\. **Fit the residues**\n",
    "\n",
    "Read the `data/residuals_261.pkl` file. If you haven't it already, download it from here:\n",
    "\n",
    "```bash\n",
    "wget https://www.dropbox.com/s/3uqleyc3wyz52tr/residuals_261.pkl -P data/\n",
    "```\n",
    "\n",
    "The feature name \"residual\" contains the residuals (defined as $y_i - \\hat{y}_i$) of a linear regression as a function of the independent variable \"distances\".\n",
    "\n",
    "- Considering only the \"residual\" feature, create an histogram with the appropriate binning and display it.\n",
    "- Set the appropriate Poisson uncertainty for each bin (thus, for each bin, $\\sigma_i = \\sqrt{n_i}$, where $n_i$ is the number of entries in each bin)\n",
    "- By looking at the distribution of the residuals, define an appropriate function and fit it to the histogram of the residuals\n",
    "- Perform a goodness-of-fit test. Is the p-value of the fit satisfactory?"
   ]
  },
  {
   "cell_type": "code",
   "execution_count": null,
   "metadata": {},
   "outputs": [],
   "source": []
  },
  {
   "cell_type": "markdown",
   "metadata": {},
   "source": [
    "4\\. **Temperatures in Munich**\n",
    "\n",
    "Get the following data file:\n",
    "\n",
    "```bash\n",
    "https://www.dropbox.com/s/7gy9yjl00ymxb8h/munich_temperatures_average_with_bad_data.txt\n",
    "```\n",
    "\n",
    "which gives the temperature in Munich every day for several years.\n",
    "\n",
    "\n",
    "Fit the following function to the data:\n",
    "\n",
    "$$f(t) = a \\cos(2\\pi t + b)+c$$\n",
    "\n",
    "where $t$ is the time in years.\n",
    "\n",
    "- Make a plot of the data and the best-fit model in the range 2008 to 2012.\n",
    "\n",
    "   - What are the best-fit values of the parameters?\n",
    "\n",
    "   - What is the overall average temperature in Munich, and what are the typical daily average values predicted by the model for the coldest and hottest time of year?\n",
    "\n",
    "   - What is the meaning of the $b$ parameter, and what physical sense does it have?\n",
    "\n",
    "\n",
    "- Now fit the data with the function $g(x)$, which has 1 more parameter than $f(x)$.\n",
    "$$g(x) = a \\cos(2\\pi b t + c)+d$$\n",
    "   - What are the RSS for $f(x)$ and $g(x)$?\n",
    "   - Use the Fisher F-test to determine whether the additional parameter is motivated."
   ]
  },
  {
   "cell_type": "code",
   "execution_count": null,
   "metadata": {},
   "outputs": [],
   "source": []
  },
  {
   "cell_type": "code",
   "execution_count": null,
   "metadata": {},
   "outputs": [],
   "source": []
  },
  {
   "cell_type": "code",
   "execution_count": null,
   "metadata": {},
   "outputs": [],
   "source": []
  }
 ],
 "metadata": {
  "kernelspec": {
   "display_name": "Python 3 (ipykernel)",
   "language": "python",
   "name": "python3"
  },
  "language_info": {
   "codemirror_mode": {
    "name": "ipython",
    "version": 3
   },
   "file_extension": ".py",
   "mimetype": "text/x-python",
   "name": "python",
   "nbconvert_exporter": "python",
   "pygments_lexer": "ipython3",
   "version": "3.9.4"
  }
 },
 "nbformat": 4,
 "nbformat_minor": 2
}
