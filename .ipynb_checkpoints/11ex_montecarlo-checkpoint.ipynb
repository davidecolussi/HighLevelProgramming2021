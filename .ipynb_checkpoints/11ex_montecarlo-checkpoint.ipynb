{
 "cells": [
  {
   "cell_type": "markdown",
   "metadata": {},
   "source": [
    "1\\. **Radioactive decay chain**\n",
    "\n",
    "${\\rm Tl}^{208}$ decays to ${\\rm Pb}^{208}$ with a half-life $\\tau$ of 3.052 minutes. Suppose to start with a sample of 1000 Thallium atoms and 0 of Lead atoms.\n",
    "\n",
    "* Take steps in time of 1 second and at each time-step decide whether each Tl atom has decayed or not, accordingly to the probability $p(t)=1-2^{-t/\\tau}$. Subtract the total number of Tl atoms that decayed at each step from the Tl sample and add them to the Lead one. Plot the evolution of the two sets as a function of time  \n",
    "* Repeat the exercise by means of the inverse transform method: draw 1000 random numbers from the non-uniform probability distribution $p(t)=2^{-t/\\tau}\\frac{\\ln 2}{\\tau}$ to represent the times of decay of the 1000 Tl atoms. Make a plot showing the number of atoms that have not decayed as a function of time"
   ]
  },
  {
   "cell_type": "code",
   "execution_count": 1,
   "metadata": {},
   "outputs": [],
   "source": [
    "import numpy as np\n",
    "import matplotlib.pyplot as plt\n",
    "import math\n",
    "import random as rnd"
   ]
  },
  {
   "cell_type": "code",
   "execution_count": 2,
   "metadata": {},
   "outputs": [
    {
     "data": {
      "text/plain": [
       "Text(0.5, 1.0, 'inverse transform method')"
      ]
     },
     "execution_count": 2,
     "metadata": {},
     "output_type": "execute_result"
    },
    {
     "data": {
      "image/png": "[encoded data removed]",
      "text/plain": [
       "<Figure size 576x576 with 2 Axes>"
      ]
     },
     "metadata": {
      "needs_background": "light"
     },
     "output_type": "display_data"
    }
   ],
   "source": [
    "def p_t(t,T):\n",
    "    return (1 - pow(2,-t/T))\n",
    "\n",
    "thallium_atoms = 1000\n",
    "lead_atoms = 0\n",
    "T = 3.052\n",
    "t = 0\n",
    "\n",
    "#vector to be populated each iteration\n",
    "thallium_vector = [thallium_atoms] \n",
    "lead_vector = [lead_atoms]\n",
    "time_vector = [t]\n",
    "\n",
    "fig, (ax1,ax2) = plt.subplots(2,1,figsize=(8,8))\n",
    "\n",
    "while(True): #iterate\n",
    "    z = thallium_atoms * p_t(1,T)\n",
    "    thallium_atoms -= z\n",
    "    lead_atoms += z\n",
    "    t +=1\n",
    "    \n",
    "    if(thallium_atoms < 1):\n",
    "        break\n",
    "        \n",
    "    thallium_vector.append(thallium_atoms)\n",
    "    lead_vector.append(lead_atoms)\n",
    "    time_vector.append(t)\n",
    "    \n",
    "#plotting\n",
    "\n",
    "ax1.set_title('Thallium and lead decay')\n",
    "ax1.plot(time_vector,lead_vector, label=\"lead\")\n",
    "ax1.plot(time_vector,thallium_vector,label=\"thallium\")\n",
    "ax1.legend()\n",
    "\n",
    "\n",
    "def p_t2(t,T):\n",
    "    return (-T * np.log(1-t)/np.log(2))\n",
    "\n",
    "decay = p_t2(np.random.random(1000),T)\n",
    "ax2.plot(np.sort(decay)[::-1])\n",
    "ax2.set_title(\"inverse transform method\")"
   ]
  },
  {
   "cell_type": "markdown",
   "metadata": {},
   "source": [
    "2\\. **Monte Carlo integration: hit/miss vs mean value method**\n",
    "\n",
    "Consider the function: \n",
    "\n",
    "$$f(x) =\\sin^2{\\left( \\frac{1}{1-x} \\right)}$$\n",
    "\n",
    "* Plot the function and compute the integral of $f(x)$ between 0 and 2 with the hit/miss method. Evaluate the error of your estimate (hint: repeat the integral $N$ times, and from the distribution of the integrals take the mean value and the standard deviation, the latter rescaled by the appropriate factor)\n",
    "* Repeat the integral with the mean value method. Evaluate the error and compare it with the previous one."
   ]
  },
  {
   "cell_type": "code",
   "execution_count": 3,
   "metadata": {},
   "outputs": [
    {
     "name": "stdout",
     "output_type": "stream",
     "text": [
      "Result of integral with monte carlo hit/miss method: 1.34036\n",
      "Estimated mean with probing: 0.6724238274819314\n",
      "Result of integral with monte carlo mean value method: 1.3448476549638628\n",
      "Absolute error between the two measurements: 0.0044876549638628305\n"
     ]
    }
   ],
   "source": [
    "def f(x):\n",
    "    return pow(np.sin(1/(1-x)),2) #this function is between 0 and 1\n",
    " \n",
    "N = 100000 #number of iterations\n",
    "x = np.linspace(0.001,1.999,1000) #linear space of x points between 0 and 2\n",
    "\n",
    "count = 0 #number of hits\n",
    "\n",
    "\n",
    "for i in range(N):\n",
    "    x = np.random.random() * 2 #x is a point coordinate between 0 and 2\n",
    "    y = np.random.random() #y is a random point between 0 and 1\n",
    "    if (y < f(x)): #hit\n",
    "        count += 1\n",
    "\n",
    "A = 2*1 #area of the box\n",
    "I = (count * A)/N\n",
    "\n",
    "print(\"Result of integral with monte carlo hit/miss method:\",I)\n",
    "\n",
    "\n",
    "#let's calculate the mean of the function values\n",
    "probing_sum = 0\n",
    "\n",
    "for i in range(N):\n",
    "    x = np.random.random() * 2 #x is a point coordinate between 0 and 2\n",
    "    y = f(x) #calculate it's function value\n",
    "    probing_sum += y\n",
    "\n",
    "#calculate the mean\n",
    "estimated_mean =  probing_sum/N\n",
    "print(\"Estimated mean with probing:\",estimated_mean)\n",
    "\n",
    "I2 = (2-0)*estimated_mean\n",
    "print(\"Result of integral with monte carlo mean value method:\",I2)\n",
    "\n",
    "print(\"Absolute error between the two measurements:\", abs(I2-I))\n"
   ]
  },
  {
   "cell_type": "markdown",
   "metadata": {},
   "source": [
    "3\\. **Monte Carlo integration in high dimension**\n",
    "\n",
    "* Compute the area of a circle of unit radius, by integrating the function:\n",
    "\n",
    "$$\n",
    "f(x,y)=\n",
    "\\left\\{\n",
    "\\begin{array}{ll}\n",
    "      1 & x^2+y^2\\le 1 \\\\\n",
    "      0 & {\\rm elsewhere}\n",
    "\\end{array} \n",
    "\\right.\n",
    "$$\n",
    "\n",
    "* Generalize the result for a 10D sphere."
   ]
  },
  {
   "cell_type": "code",
   "execution_count": 4,
   "metadata": {},
   "outputs": [
    {
     "name": "stdout",
     "output_type": "stream",
     "text": [
      "Result of integral with monte carlo hit/miss method of the circle: 3.141064\n",
      "Error between analytical result:  0.0005286535897930378\n",
      "Calculating integral of a 10D sphere (it may take some time...)\n",
      "Result of integral with monte carlo hit/miss method of the 10D sphere: 2.59584\n"
     ]
    },
    {
     "data": {
      "image/png": "[encoded data removed]",
      "text/plain": [
       "<Figure size 432x288 with 1 Axes>"
      ]
     },
     "metadata": {
      "needs_background": "light"
     },
     "output_type": "display_data"
    }
   ],
   "source": [
    "def f_circle(x,y):\n",
    "    if (x**2+y**2) <= 1:\n",
    "        return 1\n",
    "    else:\n",
    "        return 0\n",
    "\n",
    "#N = 100000 #number of iterations\n",
    "N = 1000000 #number of iterations\n",
    "\n",
    "x = np.linspace(-0.999,0.999,2000) #linear space of x points between -1 and 1\n",
    "y =  np.linspace(-0.999,0.999,2000) #linear space of y points between -1 and 1\n",
    "\n",
    "z_results = []\n",
    "for xi,yi in zip(x,y):\n",
    "    z_results.append(f_circle(xi,yi))\n",
    "    \n",
    "plt.title(\"Boolean function of points in a 2D circle\")  \n",
    "plt.xlabel(\"x and y zipped\")\n",
    "plt.ylabel(\"f(x,y)\")\n",
    "plt.plot(x,z_results)\n",
    "\n",
    "count = 0 #number of hits\n",
    "\n",
    "for i in range(N):\n",
    "    x = rnd.uniform(-1,1) #x is a point coordinate between -1 and 1\n",
    "    y = rnd.uniform(-1,1) #y is a random point between -1 and 1\n",
    "    if (f_circle(x,y)): #hit\n",
    "        count += 1\n",
    "\n",
    "A = 2*2 #area of the box\n",
    "I = (count * A)/N\n",
    "\n",
    "print(\"Result of integral with monte carlo hit/miss method of the circle:\",I)\n",
    "print(\"Error between analytical result: \",math.pi - I)\n",
    "\n",
    "\n",
    "\n",
    "\n",
    "def f_10D_sphere(variables):\n",
    "    res = 0\n",
    "    #print(\"in function param recived:\",variables)\n",
    "    for v in variables:\n",
    "        res += v**2 #sum the square of all the 10 variables values\n",
    "    if res <= 1: #if is less or equal than 1, the point sits in the 10D sphere\n",
    "        return 1\n",
    "    else:\n",
    "        return 0\n",
    "\n",
    "D = 10 #number of dimensions\n",
    "count = 0\n",
    "\n",
    "print(\"Calculating integral of a 10D sphere (it may take some time...)\")\n",
    "\n",
    "for i in range(N):\n",
    "    variables = []\n",
    "    for j in range(D): #for each dimension\n",
    "        variables.append(np.random.random())#append a random number between 0 and 1 to the 10 variables vector\n",
    "    if(f_10D_sphere(variables)):\n",
    "        count += 1\n",
    "        \n",
    "A = 2**D #area of the box\n",
    "I = (count * A)/N\n",
    "\n",
    "print(\"Result of integral with monte carlo hit/miss method of the 10D sphere:\",I)\n",
    "\n",
    "\n",
    "\n"
   ]
  },
  {
   "cell_type": "markdown",
   "metadata": {},
   "source": [
    "4\\. **Monte Carlo integration with importance sampling** \n",
    "\n",
    "Calculate the value of the integral:\n",
    "\n",
    "$$\n",
    "I=\\int_0^1 \\frac{x^{-1/2}}{e^x+1} dx\n",
    "$$\n",
    "\n",
    "using the importance sampling method with $w(x)=1/\\sqrt{x}$. You should expect a result around 0.84."
   ]
  },
  {
   "cell_type": "code",
   "execution_count": null,
   "metadata": {},
   "outputs": [],
   "source": []
  },
  {
   "cell_type": "code",
   "execution_count": null,
   "metadata": {},
   "outputs": [],
   "source": []
  }
 ],
 "metadata": {
  "kernelspec": {
   "display_name": "Python 3 (ipykernel)",
   "language": "python",
   "name": "python3"
  },
  "language_info": {
   "codemirror_mode": {
    "name": "ipython",
    "version": 3
   },
   "file_extension": ".py",
   "mimetype": "text/x-python",
   "name": "python",
   "nbconvert_exporter": "python",
   "pygments_lexer": "ipython3",
   "version": "3.9.4"
  }
 },
 "nbformat": 4,
 "nbformat_minor": 2
}
