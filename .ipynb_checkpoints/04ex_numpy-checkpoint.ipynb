{
 "cells": [
  {
   "cell_type": "code",
   "execution_count": 1,
   "metadata": {},
   "outputs": [],
   "source": [
    "import numpy as np"
   ]
  },
  {
   "cell_type": "markdown",
   "metadata": {},
   "source": [
    "1\\. Find the total mean, and the mean for each row and column of the following matrix:\n",
    "\n",
    "```python\n",
    "m = np.arange(12).reshape((3,4))\n",
    "```"
   ]
  },
  {
   "cell_type": "code",
   "execution_count": 2,
   "metadata": {},
   "outputs": [
    {
     "name": "stdout",
     "output_type": "stream",
     "text": [
      "[[ 0  1  2  3]\n",
      " [ 4  5  6  7]\n",
      " [ 8  9 10 11]]\n",
      "total mean: 5.5\n",
      "mean row 1 1.5\n",
      "mean row 2 5.5\n",
      "mean row 3 9.5\n",
      "mean col 1 4.0\n",
      "mean col 2 5.0\n",
      "mean col 3 6.0\n",
      "mean col 4 7.0\n"
     ]
    }
   ],
   "source": [
    "m = np.arange(12).reshape((3,4))\n",
    "print(m)\n",
    "mean = np.mean(m)\n",
    "print(\"total mean:\",mean)\n",
    "i = 1\n",
    "for r in m:\n",
    "    print(\"mean row\",i,np.mean(r))\n",
    "    i+=1\n",
    "    \n",
    "t = m.transpose()\n",
    "i=1\n",
    "for c in t:\n",
    "    print(\"mean col\",i,np.mean(c))\n",
    "    i+=1\n"
   ]
  },
  {
   "cell_type": "markdown",
   "metadata": {},
   "source": [
    "2\\. Find the outer product of the following vectors:\n",
    "\n",
    "```python\n",
    "u = np.array([1, 3, 5, 7])\n",
    "v = np.array([2, 4, 6, 8])\n",
    "```\n",
    "\n",
    "Use different methods to do this:\n",
    "\n",
    "   1. Using the function `outer` in numpy\n",
    "   2. Using a nested `for` loop or a list comprehension\n",
    "   3. Using numpy broadcasting operations"
   ]
  },
  {
   "cell_type": "code",
   "execution_count": 3,
   "metadata": {},
   "outputs": [
    {
     "name": "stdout",
     "output_type": "stream",
     "text": [
      "[[ 2  4  6  8]\n",
      " [ 6 12 18 24]\n",
      " [10 20 30 40]\n",
      " [14 28 42 56]]\n",
      "[[ 2  4  6  8]\n",
      " [ 6 12 18 24]\n",
      " [10 20 30 40]\n",
      " [14 28 42 56]]\n",
      "[[ 2  4  6  8]\n",
      " [ 6 12 18 24]\n",
      " [10 20 30 40]\n",
      " [14 28 42 56]]\n"
     ]
    }
   ],
   "source": [
    "u = np.array([1, 3, 5, 7])\n",
    "v = np.array([2, 4, 6, 8])\n",
    "\n",
    "print(np.outer(u,v))\n",
    "\n",
    "res = np.array([[x*y] for x in u for y in v]).reshape(4,4)\n",
    "print(res)\n",
    "\n",
    "res = u[:, np.newaxis] * v #newaxis aggiunge una dimensione alle colonne di u disponendo u tutto in una colonna di liste\n",
    "print(res)"
   ]
  },
  {
   "cell_type": "markdown",
   "metadata": {},
   "source": [
    "3\\. Create a 10 by 6 matrix of increasing float numbers, starting from zero and increasing in each step by 0.1, so the output matrix looks like the following:\n",
    "\n",
    "```python\n",
    "m = [[0. 0.1, 0.2 0.3 ... 0.9]\n",
    "     [1.0 1.1 1.2 1.3 ... 1.9]\n",
    "     ...\n",
    "     [5.0 5.1 5.2 5.3 ... 5.9]]\n",
    "```\n",
    "After creating the matrix, set all entries with a decimal part $< 0.4$ to zero."
   ]
  },
  {
   "cell_type": "code",
   "execution_count": 4,
   "metadata": {},
   "outputs": [
    {
     "name": "stdout",
     "output_type": "stream",
     "text": [
      "[[0.  0.1 0.2 0.3 0.4 0.5]\n",
      " [0.6 0.7 0.8 0.9 1.  1.1]\n",
      " [1.2 1.3 1.4 1.5 1.6 1.7]\n",
      " [1.8 1.9 2.  2.1 2.2 2.3]\n",
      " [2.4 2.5 2.6 2.7 2.8 2.9]\n",
      " [3.  3.1 3.2 3.3 3.4 3.5]\n",
      " [3.6 3.7 3.8 3.9 4.  4.1]\n",
      " [4.2 4.3 4.4 4.5 4.6 4.7]\n",
      " [4.8 4.9 5.  5.1 5.2 5.3]\n",
      " [5.4 5.5 5.6 5.7 5.8 5.9]]\n",
      "[[ True  True  True  True False False]\n",
      " [False False False False False False]\n",
      " [False False False False False False]\n",
      " [False False False False False False]\n",
      " [False False False False False False]\n",
      " [False False False False False False]\n",
      " [False False False False False False]\n",
      " [False False False False False False]\n",
      " [False False False False False False]\n",
      " [False False False False False False]]\n",
      "[[0.  0.  0.  0.  0.4 0.5]\n",
      " [0.6 0.7 0.8 0.9 1.  1.1]\n",
      " [1.2 1.3 1.4 1.5 1.6 1.7]\n",
      " [1.8 1.9 2.  2.1 2.2 2.3]\n",
      " [2.4 2.5 2.6 2.7 2.8 2.9]\n",
      " [3.  3.1 3.2 3.3 3.4 3.5]\n",
      " [3.6 3.7 3.8 3.9 4.  4.1]\n",
      " [4.2 4.3 4.4 4.5 4.6 4.7]\n",
      " [4.8 4.9 5.  5.1 5.2 5.3]\n",
      " [5.4 5.5 5.6 5.7 5.8 5.9]]\n"
     ]
    }
   ],
   "source": [
    "m = np.arange(0,6,0.1).reshape(10,6)\n",
    "print(m)\n",
    "mask = (m<0.4)\n",
    "print(mask)\n",
    "m[mask] = 0\n",
    "print(m)"
   ]
  },
  {
   "cell_type": "markdown",
   "metadata": {},
   "source": [
    "4\\. Use `np.linspace` to create an array of 100 numbers between 0 and 2π (inclusive).\n",
    "\n",
    "  * Extract every 10th element using the slice notation\n",
    "  * Reverse the array using the slice notation\n",
    "  * Extract elements where the absolute difference between the sin and cos functions evaluated for that element is $< 0.1$\n",
    "  * **Optional**: make a plot showing the sin and cos functions and indicate where they are close"
   ]
  },
  {
   "cell_type": "code",
   "execution_count": 5,
   "metadata": {},
   "outputs": [
    {
     "name": "stdout",
     "output_type": "stream",
     "text": [
      "[6.28318531 6.21971879 6.15625227 6.09278575 6.02931923 5.96585272\n",
      " 5.9023862  5.83891968 5.77545316 5.71198664 5.64852012 5.58505361\n",
      " 5.52158709 5.45812057 5.39465405 5.33118753 5.26772102 5.2042545\n",
      " 5.14078798 5.07732146 5.01385494 4.95038842 4.88692191 4.82345539\n",
      " 4.75998887 4.69652235 4.63305583 4.56958931 4.5061228  4.44265628\n",
      " 4.37918976 4.31572324 4.25225672 4.1887902  4.12532369 4.06185717\n",
      " 3.99839065 3.93492413 3.87145761 3.8079911  3.74452458 3.68105806\n",
      " 3.61759154 3.55412502 3.4906585  3.42719199 3.36372547 3.30025895\n",
      " 3.23679243 3.17332591 3.10985939 3.04639288 2.98292636 2.91945984\n",
      " 2.85599332 2.7925268  2.72906028 2.66559377 2.60212725 2.53866073\n",
      " 2.47519421 2.41172769 2.34826118 2.28479466 2.22132814 2.15786162\n",
      " 2.0943951  2.03092858 1.96746207 1.90399555 1.84052903 1.77706251\n",
      " 1.71359599 1.65012947 1.58666296 1.52319644 1.45972992 1.3962634\n",
      " 1.33279688 1.26933037 1.20586385 1.14239733 1.07893081 1.01546429\n",
      " 0.95199777 0.88853126 0.82506474 0.76159822 0.6981317  0.63466518\n",
      " 0.57119866 0.50773215 0.44426563 0.38079911 0.31733259 0.25386607\n",
      " 0.19039955 0.12693304 0.06346652 0.        ]\n",
      "\n",
      "Elements which satisfy the condition: [0.76159822 0.82506474 3.87145761 3.93492413]\n"
     ]
    },
    {
     "data": {
      "image/png": "[encoded data removed]",
      "text/plain": [
       "<Figure size 432x288 with 1 Axes>"
      ]
     },
     "metadata": {
      "needs_background": "light"
     },
     "output_type": "display_data"
    }
   ],
   "source": [
    "import matplotlib.pyplot as plt\n",
    "\n",
    "m = np.linspace(0,2*np.pi,100)\n",
    "reversed_m = m[::-1]\n",
    "print(reversed_m)\n",
    "mask = (np.absolute(np.sin(m) - np.cos(m)) < 0.1)\n",
    "print(\"\\nElements which satisfy the condition:\",m[mask])\n",
    "\n",
    "plt.plot(m,np.sin(m))\n",
    "plt.plot(m,np.cos(m))\n",
    "for xc in m[mask]:\n",
    "    plt.axvline(x=xc, color='k', linestyle='--', lw = 0.8)"
   ]
  },
  {
   "cell_type": "markdown",
   "metadata": {},
   "source": [
    "5\\. Create a matrix that shows the 10 by 10 multiplication table.\n",
    "\n",
    " * Find the trace of the matrix\n",
    " * Extract the anti-diagonal matrix (this should be ```array([10, 18, 24, 28, 30, 30, 28, 24, 18, 10])```)\n",
    " * Extract the diagonal offset by 1 upwards (this should be ```array([ 2,  6, 12, 20, 30, 42, 56, 72, 90])```)"
   ]
  },
  {
   "cell_type": "code",
   "execution_count": 6,
   "metadata": {},
   "outputs": [
    {
     "name": "stdout",
     "output_type": "stream",
     "text": [
      "[[  1   2   3   4   5   6   7   8   9  10]\n",
      " [  2   4   6   8  10  12  14  16  18  20]\n",
      " [  3   6   9  12  15  18  21  24  27  30]\n",
      " [  4   8  12  16  20  24  28  32  36  40]\n",
      " [  5  10  15  20  25  30  35  40  45  50]\n",
      " [  6  12  18  24  30  36  42  48  54  60]\n",
      " [  7  14  21  28  35  42  49  56  63  70]\n",
      " [  8  16  24  32  40  48  56  64  72  80]\n",
      " [  9  18  27  36  45  54  63  72  81  90]\n",
      " [ 10  20  30  40  50  60  70  80  90 100]]\n",
      "\n",
      "the trace is: 385\n",
      "\n",
      "anti-diagonal matrix: [10, 18, 24, 28, 30, 30, 28, 24, 18, 10]\n",
      "\n",
      "diagonal offset by 1 upwards: [2, 6, 12, 20, 30, 42, 56, 72, 90]\n"
     ]
    }
   ],
   "source": [
    "matrix = np.array([[x*y for x in range(1,11)] for y in range(1,11)])\n",
    "print(matrix)\n",
    "\n",
    "diagonal = matrix.diagonal()\n",
    "trace = np.sum(diagonal)\n",
    "print(\"\\nthe trace is:\",trace)\n",
    "\n",
    "anti_diagonal = [matrix[9-i,i] for i in reversed(range(10))]\n",
    "print(\"\\nanti-diagonal matrix:\",anti_diagonal)\n",
    "\n",
    "diagonal_offset = [matrix[i-1,i] for i in range(1,10)]\n",
    "print(\"\\ndiagonal offset by 1 upwards:\",diagonal_offset)"
   ]
  },
  {
   "cell_type": "markdown",
   "metadata": {},
   "source": [
    "6\\. Use broadcasting to create a grid of distances.\n",
    "\n",
    "Route 66 crosses the following cities in the US: Chicago, Springfield, Saint-Louis, Tulsa, Oklahoma City, Amarillo, Santa Fe, Albuquerque, Flagstaff, Los Angeles\n",
    "The corresponding positions in miles are: 0, 198, 303, 736, 871, 1175, 1475, 1544, 1913, 2448\n",
    "\n",
    "  * Build a 2D grid of distances among each city along Route 66\n",
    "  * Convert the distances in km"
   ]
  },
  {
   "cell_type": "code",
   "execution_count": 7,
   "metadata": {},
   "outputs": [
    {
     "name": "stdout",
     "output_type": "stream",
     "text": [
      "grid of distances in miles:\n",
      "\n",
      "[[   0  198  303  736  871 1175 1475 1544 1913 2448]\n",
      " [ 198    0  105  538  673  977 1277 1346 1715 2250]\n",
      " [ 303  105    0  433  568  872 1172 1241 1610 2145]\n",
      " [ 736  538  433    0  135  439  739  808 1177 1712]\n",
      " [ 871  673  568  135    0  304  604  673 1042 1577]\n",
      " [1175  977  872  439  304    0  300  369  738 1273]\n",
      " [1475 1277 1172  739  604  300    0   69  438  973]\n",
      " [1544 1346 1241  808  673  369   69    0  369  904]\n",
      " [1913 1715 1610 1177 1042  738  438  369    0  535]\n",
      " [2448 2250 2145 1712 1577 1273  973  904  535    0]]\n",
      "\n",
      "grid of distances in km:\n",
      "\n",
      "[[   0.  123.  188.  457.  541.  730.  917.  959. 1189. 1521.]\n",
      " [ 123.    0.   65.  334.  418.  607.  793.  836. 1066. 1398.]\n",
      " [ 188.   65.    0.  269.  353.  542.  728.  771. 1000. 1333.]\n",
      " [ 457.  334.  269.    0.   84.  273.  459.  502.  731. 1064.]\n",
      " [ 541.  418.  353.   84.    0.  189.  375.  418.  647.  980.]\n",
      " [ 730.  607.  542.  273.  189.    0.  186.  229.  459.  791.]\n",
      " [ 917.  793.  728.  459.  375.  186.    0.   43.  272.  605.]\n",
      " [ 959.  836.  771.  502.  418.  229.   43.    0.  229.  562.]\n",
      " [1189. 1066. 1000.  731.  647.  459.  272.  229.    0.  332.]\n",
      " [1521. 1398. 1333. 1064.  980.  791.  605.  562.  332.    0.]]\n"
     ]
    }
   ],
   "source": [
    "places = np.array(['Chicago', 'Springfield', 'Saint-Louis', 'Tulsa', 'Oklahoma City', 'Amarillo', 'Santa Fe', 'Albuquerque', 'Flagstaff', 'Los Angeles'])\n",
    "positions = np.array([0, 198, 303, 736, 871, 1175, 1475, 1544, 1913, 2448])\n",
    "\n",
    "grid=np.array([[abs(p1-p2) for p1 in positions] for p2 in positions])\n",
    "\n",
    "print(\"grid of distances in miles:\\n\")  \n",
    "print(grid)\n",
    "\n",
    "print(\"\\ngrid of distances in km:\\n\")  \n",
    "print(np.rint(grid*0.621371)) #converted to miles using BROADCASTING and rounded to nearest int"
   ]
  },
  {
   "cell_type": "markdown",
   "metadata": {},
   "source": [
    "7\\. Prime numbers sieve: compute the prime numbers in the 0-N (start with N=99) range with a sieve (mask).\n",
    "  * Check the performances (timeit); how does it scale with N? It seems to be O(n)\n",
    "  * Implement the optimization suggested in the [sieve of Eratosthenes](https://en.wikipedia.org/wiki/Sieve_of_Eratosthenes)"
   ]
  },
  {
   "cell_type": "code",
   "execution_count": 8,
   "metadata": {},
   "outputs": [
    {
     "data": {
      "text/plain": [
       "Text(0, 0.5, 'execution time [s]')"
      ]
     },
     "execution_count": 8,
     "metadata": {},
     "output_type": "execute_result"
    },
    {
     "data": {
      "image/png": "[encoded data removed]",
      "text/plain": [
       "<Figure size 432x288 with 1 Axes>"
      ]
     },
     "metadata": {
      "needs_background": "light"
     },
     "output_type": "display_data"
    }
   ],
   "source": [
    "import timeit\n",
    "\n",
    "def sieveOfEratosthenes(n):\n",
    "    \n",
    "    primes_mask = [True for i in range(n+1)]\n",
    "    primes_mask[0]= False\n",
    "    primes_mask[1]= False\n",
    "    \n",
    "    prime_list=[]\n",
    "    a = 2\n",
    "    \n",
    "    while (a*a<= n):\n",
    "        \n",
    "        if (primes_mask[a] == True): #\n",
    "            for i in range(a*a, n + 1, a): #updates all multiples of a\n",
    "                primes_mask[i] = False\n",
    "        a += 1 #next a\n",
    "    \n",
    "    \n",
    "    # append all prime numbers to prime_list\n",
    "    for a in range(n + 1):\n",
    "        if primes_mask[a]:\n",
    "            prime_list.append(a)\n",
    "            \n",
    "    return prime_list\n",
    "            \n",
    "    \n",
    "execution_times = [] #n starts from 2\n",
    "max_n = 100000\n",
    "step = 100\n",
    "for i in range(2,max_n+1,step):            \n",
    "    starttime = timeit.default_timer()       \n",
    "    prime_list = sieveOfEratosthenes(i)\n",
    "    endtime = timeit.default_timer()\n",
    "    #print(prime_list)\n",
    "    execution_times.append(endtime-starttime)\n",
    "    #print(\"time of execution (n=\" + str(i) + \"): \" + str(endtime-starttime))\n",
    "    \n",
    "plt.plot(range(2,max_n+1,step),execution_times)\n",
    "plt.title('Sieve of Eratosthenes algorithm')\n",
    "plt.xlabel('n')\n",
    "plt.ylabel('execution time [s]')"
   ]
  }
 ],
 "metadata": {
  "kernelspec": {
   "display_name": "Python 3 (ipykernel)",
   "language": "python",
   "name": "python3"
  },
  "language_info": {
   "codemirror_mode": {
    "name": "ipython",
    "version": 3
   },
   "file_extension": ".py",
   "mimetype": "text/x-python",
   "name": "python",
   "nbconvert_exporter": "python",
   "pygments_lexer": "ipython3",
   "version": "3.9.4"
  }
 },
 "nbformat": 4,
 "nbformat_minor": 2
}
