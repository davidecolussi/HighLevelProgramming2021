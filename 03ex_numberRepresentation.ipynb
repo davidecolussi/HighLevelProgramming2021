{
 "cells": [
  {
   "cell_type": "markdown",
   "metadata": {},
   "source": [
    "1\\. Write a function that converts numbers among the bin, dec, and hex representations (bin<->dec<->hex)"
   ]
  },
  {
   "cell_type": "code",
   "execution_count": 1,
   "metadata": {},
   "outputs": [
    {
     "name": "stdout",
     "output_type": "stream",
     "text": [
      "0b1010\n",
      "10\n",
      "0xa\n",
      "10\n",
      "0xa\n",
      "0b1010\n"
     ]
    }
   ],
   "source": [
    "def converter(x,choice):\n",
    "    if(choice == \"dtob\"):\n",
    "        res = bin(x)\n",
    "    elif (choice == \"btod\"):\n",
    "        res = int(str(x), 2)\n",
    "    elif (choice == \"dtoh\"):\n",
    "        res = hex(x)\n",
    "    elif (choice == \"htod\"):\n",
    "        res = int(str(x),16)\n",
    "    elif (choice == \"btoh\"):\n",
    "        aux = converter(x,\"btod\") #first convert in decimal\n",
    "        res = converter(aux,\"dtoh\") #then in hex\n",
    "    elif (choice == \"htob\"):\n",
    "        aux = converter(x,\"htod\") #first convert in decimal\n",
    "        res = converter(aux,\"dtob\")#then in bin\n",
    "    return res\n",
    "\n",
    "\n",
    "print(converter(10,\"dtob\"))\n",
    "print(converter(1010,\"btod\"))\n",
    "print(converter(10,\"dtoh\"))\n",
    "print(converter(\"A\",\"htod\"))\n",
    "print(converter(1010,\"btoh\"))\n",
    "print(converter(\"A\",\"htob\"))"
   ]
  },
  {
   "cell_type": "markdown",
   "metadata": {},
   "source": [
    "2\\. Write a function that converts a 32 bit word into a single precision floating point (i.e. interprets the various bits as sign, mantissa and exponent) and check its validity."
   ]
  },
  {
   "cell_type": "code",
   "execution_count": 2,
   "metadata": {},
   "outputs": [
    {
     "name": "stdout",
     "output_type": "stream",
     "text": [
      "\n",
      "sign, exponent and mantissa in binary:\n",
      "1 10000001 01100000000000000000000\n",
      "\n",
      "sign, exponent and mantissa in decimal:\n",
      "1 2 1.375\n",
      "\n",
      "result: -5.5\n",
      "\n",
      "sign, exponent and mantissa in binary:\n",
      "0 00000111 11000000000000000000000\n",
      "\n",
      "sign, exponent and mantissa in decimal:\n",
      "0 -120 1.75\n",
      "\n",
      "result: 1.316553672920962e-36\n"
     ]
    }
   ],
   "source": [
    "def wordToFloat(x):\n",
    "    x = str(x)\n",
    "    if(len(x) != 32):\n",
    "        print(\"length must be 32 bits\")\n",
    "        return False\n",
    "    \n",
    "    sign = x[0]\n",
    "    exp = x[1:9]\n",
    "    mant = x[9:]\n",
    "    \n",
    "    print(\"\\nsign, exponent and mantissa in binary:\")\n",
    "    print(sign, exp, mant)\n",
    "    \n",
    "    #decimal conversions for sign and exponent:\n",
    "    sign = int(sign,2)\n",
    "    exp = int(exp,2) - 127 #excess 127\n",
    "    \n",
    "    #decimal conversion for the mantissa:\n",
    "    dmant = 1\n",
    "    for i in range(0,len(mant)):\n",
    "        dmant += 2**(-(i+1))*int(mant[i],2)\n",
    "    \n",
    "    print(\"\\nsign, exponent and mantissa in decimal:\")\n",
    "    print(sign,exp,dmant)   \n",
    "    \n",
    "    res = (-1)**sign * (dmant*2**exp)\n",
    "    return res\n",
    "\n",
    "w1 = \"11000000101100000000000000000000\" #f.p. single precision representation for -5,500000\n",
    "print(\"\\nresult: \" + str(wordToFloat(w1)))\n",
    "w2 = \"00000011111000000000000000000000\" #f.p. single precision representation for 1,316554 * 10**(-36)\n",
    "print(\"\\nresult: \" + str(wordToFloat(w2)))"
   ]
  },
  {
   "cell_type": "markdown",
   "metadata": {},
   "source": [
    "3\\. Write a program to determine the underflow and overflow limits (within a factor of 2) for python on your computer. \n",
    "\n",
    "**Tip**: define two variables initialized to 1 and halve/double them for a sufficient amount of times to exceed the under/over-flow limits  "
   ]
  },
  {
   "cell_type": "code",
   "execution_count": 23,
   "metadata": {},
   "outputs": [
    {
     "name": "stdout",
     "output_type": "stream",
     "text": [
      "max value until overflow is: 8.98846567431158e+307\n",
      "min value until underflow is: 5e-324\n"
     ]
    }
   ],
   "source": [
    "a = 1.0\n",
    "b = 1.0\n",
    "aux = 2.0\n",
    "zero = 0.0\n",
    "\n",
    "while 1==1:\n",
    "    aux = a*2\n",
    "    if aux == float(\"inf\"):\n",
    "        break\n",
    "    a = aux\n",
    "    \n",
    "while 1==1:\n",
    "    aux = b/2\n",
    "    if aux.hex() == zero.hex():\n",
    "        break\n",
    "    b = aux\n",
    "\n",
    "print(\"max value until overflow is: \" + str(a))\n",
    "\n",
    "print(\"min value until underflow is: \" + str(b))"
   ]
  },
  {
   "cell_type": "markdown",
   "metadata": {},
   "source": [
    "4\\. Write a program to determine the machine precision\n",
    "\n",
    "**Tip**: define a new variable by adding an increasingly smaller value (in the same way as the previous problem) and check when the addition starts to have no effect on the number"
   ]
  },
  {
   "cell_type": "code",
   "execution_count": 28,
   "metadata": {},
   "outputs": [
    {
     "name": "stdout",
     "output_type": "stream",
     "text": [
      "min value until having no effect on the number is: 1e-16\n"
     ]
    }
   ],
   "source": [
    "a = 1.0\n",
    "e = 1\n",
    "one = 1.0\n",
    "\n",
    "while 1==1:\n",
    "    a = a + 1*10**-e #adding a small number to a\n",
    "    if(a.hex() == one.hex()):\n",
    "        break\n",
    "    a = 1.0 #reset a\n",
    "    e += 1 #increasing the exponent\n",
    "    \n",
    "print(\"min value until having no effect on the number is: \" + str(1*10**-e))"
   ]
  },
  {
   "cell_type": "markdown",
   "metadata": {},
   "source": [
    "5\\. Write a function that takes in input three parameters $a$, $b$ and $c$ and prints out the two solutions to the quadratic equation $ax^2+bx+c=0$ using the standard formula:\n",
    "$$\n",
    "x=\\frac{-b\\pm\\sqrt{b^2-4ac}}{2a}\n",
    "$$\n",
    "\n",
    "(a) use the program to compute the solution for $a=0.001$, $b=1000$ and $c=0.001$\n",
    "\n",
    "(b) re-express the standard solution formula by multiplying the numerator and the denominator by $-b\\mp\\sqrt{b^2-4ac}$ and again find the solution for $a=0.001$, $b=1000$ and $c=0.001$. How does it compare with what has been previously obtained, and why?\n",
    "\n",
    "(c) write a function that computes the roots of a quadratic equation accurately in all cases"
   ]
  },
  {
   "cell_type": "code",
   "execution_count": 63,
   "metadata": {},
   "outputs": [
    {
     "name": "stdout",
     "output_type": "stream",
     "text": [
      "res1 = (-9.999894245993346e-07, -999999.999999)\n",
      "\n",
      "Here are the factors to multiply to both numerator and denominator of x1 and x2:\n",
      "-1999.999999998 -1.999978849198669e-09\n",
      "\n",
      "res2 = (-9.999894245993346e-07, -999999.9999990001)\n",
      "\n",
      "Notice that x1 remained unchanged, while x2 is a little bit more (exactly 1*10**-10)\n",
      "This is due to the order of operations made by the computer, and the fact that float have limited precision\n",
      "In fact, if we compute the fraction composed by -b\\mp\\sqrt{b^2-4ac} both at the numerator and the denominator first, we can notice that the result of this fraction is 1.0\n",
      "\n",
      "Here are the factors to multiply DIRECTLY to x1 and x2:\n",
      "1.0 1.0\n",
      "\n",
      "res3 = (-9.999894245993346e-07, -999999.999999)\n"
     ]
    }
   ],
   "source": [
    "import math\n",
    "\n",
    "def quadratic_eq(a,b,c):\n",
    "    x1 = (-b + math.sqrt(b**2-4*a*c)) / (2*a)\n",
    "    x2 = (-b - math.sqrt(b**2-4*a*c)) / (2*a)\n",
    "    return (x1,x2)\n",
    "\n",
    "def quadratic_eq_mult(a,b,c):\n",
    "    to_multiply_to_x1 = -b - math.sqrt(b**2 - 4*a*c)\n",
    "    to_multiply_to_x2 = -b + math.sqrt(b**2 - 4*a*c)\n",
    "    \n",
    "    print(\"\\nHere are the factors to multiply to both numerator and denominator of x1 and x2:\")\n",
    "    print(to_multiply_to_x1,to_multiply_to_x2)\n",
    "    \n",
    "    x1 = ((-b + math.sqrt(b**2-4*a*c))*to_multiply_to_x1) / ((2*a)*to_multiply_to_x1)\n",
    "    \n",
    "    x2 = ((-b - math.sqrt(b**2-4*a*c))*to_multiply_to_x2) / ((2*a)*to_multiply_to_x2)\n",
    "    \n",
    "    return (x1,x2)\n",
    "\n",
    "def quadratic_eq_mult_correct(a,b,c):\n",
    "    to_multiply_to_x1 = -b - math.sqrt(b**2 - 4*a*c)\n",
    "    to_multiply_to_x2 = -b + math.sqrt(b**2 - 4*a*c)\n",
    "    \n",
    "    to_multiply_to_x1_directly = to_multiply_to_x1 / to_multiply_to_x1\n",
    "    to_multiply_to_x2_directly = to_multiply_to_x2 / to_multiply_to_x2\n",
    "    \n",
    "    print(\"\\nHere are the factors to multiply DIRECTLY to x1 and x2:\")\n",
    "    print(to_multiply_to_x1_directly, to_multiply_to_x2_directly)\n",
    "    \n",
    "    x1 = (-b + math.sqrt(b**2-4*a*c)) / (2*a)\n",
    "    x1 = x1 * to_multiply_to_x1_directly\n",
    "    x2 = (-b - math.sqrt(b**2-4*a*c)) / (2*a)\n",
    "    x2 = x2 * to_multiply_to_x2_directly\n",
    "    \n",
    "    return (x1,x2)\n",
    "\n",
    "res1 = quadratic_eq(0.001,1000,0.001)\n",
    "print(\"res1 = \" + str(res1))\n",
    "\n",
    "res2 = quadratic_eq_mult(0.001,1000,0.001)\n",
    "print(\"\\nres2 = \" + str(res2))\n",
    "\n",
    "print(\"\\nNotice that x1 remained unchanged, while x2 is a little bit more (exactly 1*10**-10)\")\n",
    "print(\"This is due to the order of operations made by the computer, and the fact that float have limited precision\")\n",
    "print(\"In fact, if we compute the fraction composed by -b\\mp\\sqrt{b^2-4ac} both at the numerator and the denominator first, we can notice that the result of this fraction is 1.0\")\n",
    "\n",
    "\n",
    "res3 = quadratic_eq_mult_correct(0.001,1000,0.001)\n",
    "print(\"\\nres3 = \" + str(res3))"
   ]
  },
  {
   "cell_type": "markdown",
   "metadata": {},
   "source": [
    "6\\. Write a program that implements the function $f(x)=x(x−1)$\n",
    "\n",
    "(a) Calculate the derivative of the function at the point $x = 1$ using the derivative definition:\n",
    "\n",
    "$$\n",
    "\\frac{{\\rm d}f}{{\\rm d}x} = \\lim_{\\delta\\to0} \\frac{f(x+\\delta)-f(x)}{\\delta}\n",
    "$$\n",
    "\n",
    "with $\\delta = 10^{−2}$. Calculate the true value of the same derivative analytically and compare it with the answer your program gives. The two will not agree perfectly. Why?\n",
    "\n",
    "(b) Repeat the calculation for $\\delta = 10^{−4}, 10^{−6}, 10^{−8}, 10^{−10}, 10^{−12}$ and $10^{−14}$. How does the accuracy scales with $\\delta$?"
   ]
  },
  {
   "cell_type": "code",
   "execution_count": null,
   "metadata": {},
   "outputs": [],
   "source": []
  },
  {
   "cell_type": "markdown",
   "metadata": {},
   "source": [
    "7\\. Consider the integral of the semicircle of radius 1:\n",
    "$$\n",
    "I=\\int_{-1}^{1} \\sqrt(1-x^2) {\\rm d}x\n",
    "$$\n",
    "which is known to be $I=\\frac{\\pi}{2}=1.57079632679...$.\n",
    "\n",
    "Alternatively we can use the Riemann definition of the integral:\n",
    "$$\n",
    "I=\\lim_{N\\to\\infty} \\sum_{k=1}^{N} h y_k \n",
    "$$\n",
    "\n",
    "with $h=2/N$ the width of each of the $N$ slices the domain is divided into and where\n",
    "$y_k$ is the value of the function at the $k-$th slice.\n",
    "\n",
    "(a) Write a program to compute the integral with $N=100$. How does the result compare to the true value?\n",
    "\n",
    "(b) How much can $N$ be increased if the computation needs to be run in less than a second? What is the gain in running it for 1 minute? \n"
   ]
  },
  {
   "cell_type": "code",
   "execution_count": null,
   "metadata": {},
   "outputs": [],
   "source": []
  }
 ],
 "metadata": {
  "kernelspec": {
   "display_name": "Python 3 (ipykernel)",
   "language": "python",
   "name": "python3"
  },
  "language_info": {
   "codemirror_mode": {
    "name": "ipython",
    "version": 3
   },
   "file_extension": ".py",
   "mimetype": "text/x-python",
   "name": "python",
   "nbconvert_exporter": "python",
   "pygments_lexer": "ipython3",
   "version": "3.9.4"
  }
 },
 "nbformat": 4,
 "nbformat_minor": 2
}
