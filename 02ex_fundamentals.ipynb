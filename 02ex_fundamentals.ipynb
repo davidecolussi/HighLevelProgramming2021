{
 "cells": [
  {
   "cell_type": "markdown",
   "metadata": {},
   "source": [
    "1. Write the following expressions using the list comprehension"
   ]
  },
  {
   "cell_type": "code",
   "execution_count": 1,
   "metadata": {},
   "outputs": [
    {
     "name": "stdout",
     "output_type": "stream",
     "text": [
      "[(0, 0), (0, 1), (0, 2), (0, 3), (1, 0), (1, 1), (1, 2), (1, 3), (2, 0), (2, 1), (2, 2), (2, 3)]\n",
      "[1, 9, 25, 49, 81]\n"
     ]
    }
   ],
   "source": [
    "# 1\n",
    "ans = []\n",
    "for i in range(3):\n",
    "    for j in range(4):\n",
    "        ans.append((i, j))\n",
    "print(ans)\n",
    "\n",
    "# 2\n",
    "ans = map(lambda x: x * x, filter(lambda x: x % 2 == 1, range(10)))\n",
    "print(list(ans))"
   ]
  },
  {
   "cell_type": "code",
   "execution_count": 32,
   "metadata": {},
   "outputs": [
    {
     "name": "stdout",
     "output_type": "stream",
     "text": [
      "[(0, 0), (0, 1), (0, 2), (0, 3), (1, 0), (1, 1), (1, 2), (1, 3), (2, 0), (2, 1), (2, 2), (2, 3)]\n",
      "[1, 9, 25, 49, 81]\n"
     ]
    }
   ],
   "source": [
    "ans = [(x,y) for x in range(3) for y in range(4)]\n",
    "print(ans)\n",
    "ans = [x*x for x in range(10) if x%2==1]\n",
    "print(ans)"
   ]
  },
  {
   "cell_type": "markdown",
   "metadata": {},
   "source": [
    "2\\. Convert the function $f$ into a function that doesn't use global variables and that does not modify the original list"
   ]
  },
  {
   "cell_type": "code",
   "execution_count": 16,
   "metadata": {},
   "outputs": [
    {
     "name": "stdout",
     "output_type": "stream",
     "text": [
      "[1, 2, 3, 0, 1, 2, 3, 4]\n",
      "[1, 2, 3, 0, 1, 2, 3, 4]\n"
     ]
    }
   ],
   "source": [
    "x = 5\n",
    "def f(alist):\n",
    "    for i in range(x):\n",
    "         alist.append(i)\n",
    "    return alist\n",
    "\n",
    "alist = [1,2,3]\n",
    "ans = f(alist)\n",
    "print(ans)\n",
    "print(alist) # alist has been changed!"
   ]
  },
  {
   "cell_type": "code",
   "execution_count": 30,
   "metadata": {},
   "outputs": [
    {
     "name": "stdout",
     "output_type": "stream",
     "text": [
      "[1, 2, 3, 0, 1, 2, 3, 4, 5, 6]\n",
      "[1, 2, 3]\n"
     ]
    }
   ],
   "source": [
    "def f_no_change(alist,y):\n",
    "    alist = [*alist]\n",
    "    for i in range(y):\n",
    "         alist.append(i)\n",
    "    return alist\n",
    "\n",
    "alist = [1,2,3]\n",
    "ans = f_no_change(alist,7)\n",
    "print(ans)\n",
    "print(alist) # alist has NOT been changed!"
   ]
  },
  {
   "cell_type": "markdown",
   "metadata": {},
   "source": [
    "3\\. Write a `decorator` hello that makes every wrapped function print “Hello!”, i.e. something like:\n",
    "\n",
    "```python\n",
    "@hello\n",
    "def square(x):\n",
    "    return x*x\n",
    "```\n",
    "\n"
   ]
  },
  {
   "cell_type": "code",
   "execution_count": 47,
   "metadata": {},
   "outputs": [
    {
     "name": "stdout",
     "output_type": "stream",
     "text": [
      "Hello!\n",
      "5\n"
     ]
    }
   ],
   "source": [
    "def hello(func):\n",
    "    def wrapper(*args):\n",
    "        print(\"Hello!\")\n",
    "        func(*args)\n",
    "    return wrapper\n",
    "\n",
    "@hello\n",
    "def square(x):\n",
    "    return x*x\n",
    "\n",
    "a = square(x)\n",
    "print(x)"
   ]
  },
  {
   "cell_type": "markdown",
   "metadata": {},
   "source": [
    "4\\. Write the factorial function in two different ways, so that it a) does and b) does not use recursion."
   ]
  },
  {
   "cell_type": "code",
   "execution_count": 66,
   "metadata": {},
   "outputs": [
    {
     "name": "stdout",
     "output_type": "stream",
     "text": [
      "24\n",
      "24\n"
     ]
    }
   ],
   "source": [
    "def factorial_rec(x):\n",
    "    if(x == 1 or x == 0):\n",
    "        return 1\n",
    "    else:\n",
    "        return x*factorial_rec(x-1)\n",
    "\n",
    "def factorial(x):\n",
    "    res = 1\n",
    "    while(x>1):\n",
    "        res = res * x\n",
    "        x = x-1\n",
    "    return res\n",
    "    \n",
    "print(factorial_rec(4))\n",
    "print(factorial(4))"
   ]
  },
  {
   "cell_type": "markdown",
   "metadata": {},
   "source": [
    "5\\. Use HOFs (zip in particular) to compute the weight of a circle, a disk and a sphere, assuming different radii and different densities:\n",
    "\n",
    "```python\n",
    "densities = {\"Al\" : [0.5, 1, 2], \"Fe\" : [3, 4, 5], \"Pb\" : [15, 20, 30]}\n",
    "radii = [1, 2, 3]\n",
    "```\n",
    "\n",
    "where the entries of the dictionary's values are the linear, superficial and volumetric densities of the materials respectively.\n",
    "\n",
    "Subsequently, define a list using a comprehension with three lambda functions that compute the circumference, the area and the volume for a given radius.\n"
   ]
  },
  {
   "cell_type": "code",
   "execution_count": 36,
   "metadata": {},
   "outputs": [
    {
     "name": "stdout",
     "output_type": "stream",
     "text": [
      "Elemento = Al, Raggio = 1, Densita = 0.5, Risultato = 3.14\n",
      "Elemento = Al, Raggio = 1, Densita = 1, Risultato = 3.14\n",
      "Elemento = Al, Raggio = 1, Densita = 2, Risultato = 8.373333333333333\n",
      "Elemento = Al, Raggio = 2, Densita = 0.5, Risultato = 6.28\n",
      "Elemento = Al, Raggio = 2, Densita = 1, Risultato = 12.56\n",
      "Elemento = Al, Raggio = 2, Densita = 2, Risultato = 66.98666666666666\n",
      "Elemento = Al, Raggio = 3, Densita = 0.5, Risultato = 9.42\n",
      "Elemento = Al, Raggio = 3, Densita = 1, Risultato = 28.259999999999998\n",
      "Elemento = Al, Raggio = 3, Densita = 2, Risultato = 226.07999999999996\n",
      "\n",
      "Elemento = Fe, Raggio = 1, Densita = 3, Risultato = 18.84\n",
      "Elemento = Fe, Raggio = 1, Densita = 4, Risultato = 12.56\n",
      "Elemento = Fe, Raggio = 1, Densita = 5, Risultato = 20.933333333333334\n",
      "Elemento = Fe, Raggio = 2, Densita = 3, Risultato = 37.68\n",
      "Elemento = Fe, Raggio = 2, Densita = 4, Risultato = 50.24\n",
      "Elemento = Fe, Raggio = 2, Densita = 5, Risultato = 167.46666666666667\n",
      "Elemento = Fe, Raggio = 3, Densita = 3, Risultato = 56.519999999999996\n",
      "Elemento = Fe, Raggio = 3, Densita = 4, Risultato = 113.03999999999999\n",
      "Elemento = Fe, Raggio = 3, Densita = 5, Risultato = 565.1999999999999\n",
      "\n",
      "Elemento = Pb, Raggio = 1, Densita = 15, Risultato = 94.2\n",
      "Elemento = Pb, Raggio = 1, Densita = 20, Risultato = 62.800000000000004\n",
      "Elemento = Pb, Raggio = 1, Densita = 30, Risultato = 125.6\n",
      "Elemento = Pb, Raggio = 2, Densita = 15, Risultato = 188.4\n",
      "Elemento = Pb, Raggio = 2, Densita = 20, Risultato = 251.20000000000002\n",
      "Elemento = Pb, Raggio = 2, Densita = 30, Risultato = 1004.8\n",
      "Elemento = Pb, Raggio = 3, Densita = 15, Risultato = 282.6\n",
      "Elemento = Pb, Raggio = 3, Densita = 20, Risultato = 565.1999999999999\n",
      "Elemento = Pb, Raggio = 3, Densita = 30, Risultato = 3391.1999999999994\n",
      "\n",
      "[[6.28, 3.14, 4.1866666666666665], [12.56, 12.56, 33.49333333333333], [18.84, 28.259999999999998, 113.03999999999998]]\n"
     ]
    }
   ],
   "source": [
    "densities = {\"Al\" : [0.5, 1, 2], \"Fe\" : [3, 4, 5], \"Pb\" : [15, 20, 30]}\n",
    "radii = [1, 2, 3]\n",
    "\n",
    "circle = lambda r: 2*3.14*r\n",
    "disk = lambda r: 3.14*r*r\n",
    "sphere = lambda r: 4/3*3.14*r*r*r\n",
    "\n",
    "functions = [circle,disk,sphere]\n",
    "\n",
    "for key in densities:\n",
    "    for r in radii:\n",
    "        for d,f in zip(densities[key],functions):\n",
    "            print(\"Elemento = \" + key + \", Raggio = \" + str(r) + \", Densita = \" + str(d) + \", Risultato = \" + str(f(r)*d))\n",
    "    print(\"\")\n",
    "    \n",
    "calculation_list = [[circle(x),disk(x),sphere(x)] for x in radii] #compute circumference,area and volume for radii 1,2,3\n",
    "print(calculation_list)\n"
   ]
  },
  {
   "cell_type": "markdown",
   "metadata": {},
   "source": [
    "6\\. Edit the class defintion to add an instance attribute of `is_hungry = True` to the Dog class. Then add a method called `eat()` which changes the value of `is_hungry` to `False` when called. Figure out the best way to instantiate the dog objects and to feed the dogs, e.g. call the `eat()` method for all instances. Finally, print “My dogs are hungry.” or “My dogs are not hungry.” if all of them have `is_hungry = True` or `False`, respectively. The final output should look like this:\n",
    "\n",
    "`I have 3 dogs. \n",
    "Tom is 6. \n",
    "Fletcher is 7. \n",
    "Larry is 9. \n",
    "And they're all mammals, of course. \n",
    "My dogs are not hungry.\n",
    "`\n",
    "\n",
    "```python\n",
    "# Parent class\n",
    "class Dog:\n",
    "\n",
    "    # Class attribute\n",
    "    species = 'mammal'\n",
    "\n",
    "    # Initializer / Instance attributes\n",
    "    def __init__(self, name, age):\n",
    "        self.name = name\n",
    "        self.age = age\n",
    "\n",
    "    # instance method\n",
    "    def description(self):\n",
    "        return \"{} is {} years old\".format(self.name, self.age)\n",
    "\n",
    "    # instance method\n",
    "    def speak(self, sound):\n",
    "        return \"{} says {}\".format(self.name, sound)\n",
    "\n",
    "# Child class (inherits from Dog class)\n",
    "class RussellTerrier(Dog):\n",
    "    def run(self, speed):\n",
    "        return \"{} runs {}\".format(self.name, speed)\n",
    "\n",
    "# Child class (inherits from Dog class)\n",
    "class Bulldog(Dog):\n",
    "    def run(self, speed):\n",
    "        return \"{} runs {}\".format(self.name, speed)\n",
    "```"
   ]
  },
  {
   "cell_type": "code",
   "execution_count": 113,
   "metadata": {},
   "outputs": [
    {
     "name": "stdout",
     "output_type": "stream",
     "text": [
      "I have 3 dogs.\n",
      "Tom is 6.\n",
      "Fletcher is 7.\n",
      "Larry is 9.\n",
      "And they're all mammals, of course. \n",
      "My dogs are hungry\n",
      "My dogs are not hungry\n"
     ]
    }
   ],
   "source": [
    "# Parent class\n",
    "class Dog:\n",
    "\n",
    "    # Class attribute\n",
    "    species = 'mammal'\n",
    "\n",
    "    # Initializer / Instance attributes\n",
    "    def __init__(self, name, age):\n",
    "        self.name = name\n",
    "        self.age = age\n",
    "        self.is_hungry = True\n",
    "\n",
    "    # instance method\n",
    "    def description(self):\n",
    "        return \"{} is {} years old\".format(self.name, self.age)\n",
    "\n",
    "    # instance method\n",
    "    def speak(self, sound):\n",
    "        return \"{} says {}\".format(self.name, sound)\n",
    "    \n",
    "    # instance method\n",
    "    def eat(self):\n",
    "        self.is_hungry = False\n",
    "\n",
    "# Child class (inherits from Dog class)\n",
    "class RussellTerrier(Dog):\n",
    "    def run(self, speed):\n",
    "        return \"{} runs {}\".format(self.name, speed)\n",
    "\n",
    "# Child class (inherits from Dog class)\n",
    "class Bulldog(Dog):\n",
    "    def run(self, speed):\n",
    "        return \"{} runs {}\".format(self.name, speed)\n",
    "    \n",
    "    \n",
    "Tom = Dog(\"Tom\",6)\n",
    "Fletcher = Dog(\"Fletcher\",7)\n",
    "Larry = Dog(\"Larry\",9)\n",
    "print(\"I have 3 dogs.\\nTom is 6.\\nFletcher is 7.\\nLarry is 9.\\nAnd they're all mammals, of course. \")\n",
    "\n",
    "if (Tom.is_hungry and Fletcher.is_hungry and Larry.is_hungry):\n",
    "    print(\"My dogs are hungry\")\n",
    "    \n",
    "Tom.eat()\n",
    "Fletcher.eat()\n",
    "Larry.eat()\n",
    "if ((Tom.is_hungry and Fletcher.is_hungry and Larry.is_hungry) == False):\n",
    "    print(\"My dogs are not hungry\")\n",
    "\n",
    "   \n",
    "    "
   ]
  }
 ],
 "metadata": {
  "kernelspec": {
   "display_name": "Python 3 (ipykernel)",
   "language": "python",
   "name": "python3"
  },
  "language_info": {
   "codemirror_mode": {
    "name": "ipython",
    "version": 3
   },
   "file_extension": ".py",
   "mimetype": "text/x-python",
   "name": "python",
   "nbconvert_exporter": "python",
   "pygments_lexer": "ipython3",
   "version": "3.9.4"
  }
 },
 "nbformat": 4,
 "nbformat_minor": 2
}
